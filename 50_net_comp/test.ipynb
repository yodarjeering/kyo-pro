{
 "cells": [
  {
   "cell_type": "code",
   "execution_count": 1,
   "metadata": {},
   "outputs": [
    {
     "name": "stdout",
     "output_type": "stream",
     "text": [
      "['5N613', '5N614', '5N615', '5N616', '1112', 'DC_DC1', 'DC_DC2', 'GND', 'VDD']\n"
     ]
    }
   ],
   "source": [
    "import re\n",
    "\n",
    "def natural_sort_key(s):\n",
    "    # 数字は int に、それ以外は小文字化した str のまま\n",
    "    return [int(text) if text.isdigit() else text.lower() for text in re.split(r'(\\d+)', s)]\n",
    "\n",
    "nodes = ['5N616', '5N614', 'DC_DC2', 'GND', '5N613', '5N615', 'DC_DC1', 'VDD','1112']\n",
    "sorted_nodes = sorted(nodes, key=natural_sort_key)\n",
    "print(sorted_nodes)"
   ]
  },
  {
   "cell_type": "code",
   "execution_count": null,
   "metadata": {},
   "outputs": [],
   "source": []
  }
 ],
 "metadata": {
  "kernelspec": {
   "display_name": "Python 3",
   "language": "python",
   "name": "python3"
  },
  "language_info": {
   "codemirror_mode": {
    "name": "ipython",
    "version": 3
   },
   "file_extension": ".py",
   "mimetype": "text/x-python",
   "name": "python",
   "nbconvert_exporter": "python",
   "pygments_lexer": "ipython3",
   "version": "3.12.4"
  }
 },
 "nbformat": 4,
 "nbformat_minor": 2
}
